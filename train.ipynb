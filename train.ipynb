{
 "cells": [
  {
   "cell_type": "code",
   "execution_count": 1,
   "metadata": {},
   "outputs": [],
   "source": [
    "import joblib\n",
    "import random\n",
    "import cv2\n",
    "import operator"
   ]
  },
  {
   "cell_type": "code",
   "execution_count": 2,
   "metadata": {},
   "outputs": [],
   "source": [
    "import numpy as np\n",
    "from sklearn.ensemble import RandomForestClassifier"
   ]
  },
  {
   "cell_type": "code",
   "execution_count": 3,
   "metadata": {},
   "outputs": [],
   "source": [
    "from mnist.loader import MNIST"
   ]
  },
  {
   "cell_type": "code",
   "execution_count": 4,
   "metadata": {},
   "outputs": [],
   "source": [
    "from utils import predict_image, preprocess_table"
   ]
  },
  {
   "cell_type": "code",
   "execution_count": 5,
   "metadata": {},
   "outputs": [],
   "source": [
    "def extract_number(features):\n",
    "    for path_k in range(9):\n",
    "        if path_k != 1 and path_k != 3 and path_k != 4:\n",
    "            # path where your train_images are located\n",
    "            path = 'data/train_' + str(path_k) + '.jpg'\n",
    "            print(path)\n",
    "            img = cv2.imread(path)\n",
    "            _, final_image = predict_image(img)\n",
    "            final_image = preprocess_table(final_image)\n",
    "            for i in range(9):\n",
    "                for j in range(9):\n",
    "                    image = final_image[i * 30:(i + 1) * 30, j * 30:(j + 1) * 30]\n",
    "                    image = image[1:29,1:29]\n",
    "                    image = cv2.resize(image, (28, 28))\n",
    "                    kernel = np.ones((2,2))\n",
    "                    image = cv2.dilate(image, kernel, iterations=2)\n",
    "                    image = cv2.erode(image, kernel, iterations=2)\n",
    "                    if image.sum() > 10000:\n",
    "                        features.append(image.ravel())\n",
    "    return np.array(features)\n",
    "    "
   ]
  },
  {
   "cell_type": "code",
   "execution_count": 6,
   "metadata": {},
   "outputs": [
    {
     "name": "stdout",
     "output_type": "stream",
     "text": [
      "data/train_0.jpg\n",
      "data/train_2.jpg\n",
      "data/train_5.jpg\n",
      "data/train_6.jpg\n",
      "data/train_7.jpg\n",
      "data/train_8.jpg\n"
     ]
    }
   ],
   "source": [
    "# labels obtained from images in folder 'data/'\n",
    "labels_train = np.int16([5,3,6,5,1,4,3,4,8,7,2,6,8,6,2,9,5,9,3,4,2,9,5,6,8,1,5,6,1,8,4,7,5,1,7,8,6,5,1,2,6,5,2,7,3,5,9,2,8,1,\n",
    "                         4,9,7,1,6,8,4,7,1,5,6,9,7,6,5,7,9,1,4,7,8,3,8,3,1,7,4,6,9,4,3,5,4,9,2,1,6,7,2,5,3,0,8,2,7,1,3,9,2,4,\n",
    "                         7,5,9,1,3,4,2,3,8,5,2,9,3,6,7,2,9,8,1,2,4,6,3,3,6,5,3,1,9,7,8,1,1,9,8,6,5,7,2,5,3,9,7,8,66,2,6,1,9,7,\n",
    "                         8,4,1,5,2,4,8,7,2,9,3,9,5,4,7,2,1,7,4,4,5,7,6,5,6,3,2,1,5,1,9,8,6,7,4,8,4,3,6,6,4,8,1,2,8,3,1,5,4,7,\n",
    "                         1,8,3,4,7])\n",
    "features_train = []\n",
    "features_train = extract_number(features_train)"
   ]
  },
  {
   "cell_type": "markdown",
   "metadata": {},
   "source": [
    "### Random Forest Classifier"
   ]
  },
  {
   "cell_type": "code",
   "execution_count": 7,
   "metadata": {},
   "outputs": [
    {
     "data": {
      "text/plain": [
       "RandomForestClassifier(n_jobs=-1, random_state=42)"
      ]
     },
     "execution_count": 7,
     "metadata": {},
     "output_type": "execute_result"
    }
   ],
   "source": [
    "rf = RandomForestClassifier(n_jobs = -1, random_state=42)\n",
    "rf.fit(features_train, labels_train)"
   ]
  },
  {
   "cell_type": "markdown",
   "metadata": {},
   "source": [
    "### Save classifier to file with compression"
   ]
  },
  {
   "cell_type": "code",
   "execution_count": 8,
   "metadata": {},
   "outputs": [
    {
     "data": {
      "text/plain": [
       "['clf.joblib']"
      ]
     },
     "execution_count": 8,
     "metadata": {},
     "output_type": "execute_result"
    }
   ],
   "source": [
    "joblib.dump(rf, 'clf.joblib', compress=2)"
   ]
  },
  {
   "cell_type": "markdown",
   "metadata": {},
   "source": [
    "### CNN (vgg)"
   ]
  },
  {
   "cell_type": "code",
   "execution_count": null,
   "metadata": {},
   "outputs": [],
   "source": []
  }
 ],
 "metadata": {
  "kernelspec": {
   "display_name": "Python 3",
   "language": "python",
   "name": "python3"
  },
  "language_info": {
   "codemirror_mode": {
    "name": "ipython",
    "version": 3
   },
   "file_extension": ".py",
   "mimetype": "text/x-python",
   "name": "python",
   "nbconvert_exporter": "python",
   "pygments_lexer": "ipython3",
   "version": "3.8.3"
  }
 },
 "nbformat": 4,
 "nbformat_minor": 4
}
